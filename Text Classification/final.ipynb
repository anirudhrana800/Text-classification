{
 "cells": [
  {
   "cell_type": "code",
   "execution_count": 4,
   "id": "d31a8417",
   "metadata": {},
   "outputs": [
    {
     "name": "stdout",
     "output_type": "stream",
     "text": [
      "Accuracy: 92.42%\n"
     ]
    },
    {
     "data": {
      "image/png": "[encoded data removed]",
      "text/plain": [
       "<Figure size 432x288 with 1 Axes>"
      ]
     },
     "metadata": {},
     "output_type": "display_data"
    },
    {
     "name": "stdout",
     "output_type": "stream",
     "text": [
      "Enter your news article: corona cases increased recently\n",
      "Predicted category:  medical\n"
     ]
    }
   ],
   "source": [
    "# Import the libraries\n",
    "import pandas as pd\n",
    "import numpy as np\n",
    "import matplotlib.pyplot as plt\n",
    "from sklearn.feature_extraction.text import TfidfVectorizer\n",
    "from sklearn.naive_bayes import MultinomialNB\n",
    "from sklearn.metrics import accuracy_score\n",
    "from sklearn.model_selection import train_test_split\n",
    "\n",
    "# Load the dataset\n",
    "df=pd.read_csv(\"C://Users//Yogesh Tewari//Downloads//uci-news-aggregator.csv\")\n",
    "\n",
    "# Preprocess the data\n",
    "df = df.dropna() # remove missing values\n",
    "df = df.drop([\"ID\",\"URL\",\"PUBLISHER\",\"HOSTNAME\",\"TIMESTAMP\"], axis=1) # remove unnecessary columns\n",
    "df[\"CATEGORY\"] = df[\"CATEGORY\"].replace({\"b\": \"business\", \"e\": \"entertainment\",\"t\": \"technology\",\"m\": \"medical\"})\n",
    "\n",
    "# Split the dataset into training and testing sets\n",
    "X_train, X_test, y_train, y_test = train_test_split(df[\"TITLE\"], df[\"CATEGORY\"], test_size=0.2, random_state=62)\n",
    "\n",
    "# Extract features from the text data\n",
    "vectorizer = TfidfVectorizer()\n",
    "X_train = vectorizer.fit_transform(X_train)\n",
    "X_test = vectorizer.transform(X_test)\n",
    "\n",
    "# Train the model\n",
    "clf = MultinomialNB()\n",
    "clf.fit(X_train, y_train)\n",
    "\n",
    "# Test the model\n",
    "y_pred = clf.predict(X_test)\n",
    "\n",
    "# Evaluate the model\n",
    "acc = accuracy_score(y_test, y_pred)\n",
    "print(\"Accuracy: {:.2f}%\".format(acc*100))\n",
    "\n",
    "# Count the number of articles in each category\n",
    "category_counts = df[\"CATEGORY\"].value_counts()\n",
    "\n",
    "# Calculate the percentage of articles in each category\n",
    "category_percentages = category_counts / category_counts.sum()\n",
    "\n",
    "# Plot the pie chart\n",
    "plt.pie(category_percentages, labels=category_percentages.index, autopct='%1.1f%%')\n",
    "plt.title(\"News Categories\")\n",
    "plt.show()\n",
    "# Input new news article\n",
    "new_news = input(\"Enter your news article: \")\n",
    "\n",
    "# Extract features from the new news article\n",
    "new_news = vectorizer.transform([new_news])\n",
    "\n",
    "# Predict the category of the new news article\n",
    "pred_category = clf.predict(new_news)\n",
    "print(\"Predicted category: \", pred_category[0])\n"
   ]
  },
  {
   "cell_type": "code",
   "execution_count": null,
   "id": "4be2cd3a",
   "metadata": {},
   "outputs": [],
   "source": []
  },
  {
   "cell_type": "code",
   "execution_count": null,
   "id": "ceffdf4f",
   "metadata": {},
   "outputs": [],
   "source": []
  }
 ],
 "metadata": {
  "kernelspec": {
   "display_name": "Python 3 (ipykernel)",
   "language": "python",
   "name": "python3"
  },
  "language_info": {
   "codemirror_mode": {
    "name": "ipython",
    "version": 3
   },
   "file_extension": ".py",
   "mimetype": "text/x-python",
   "name": "python",
   "nbconvert_exporter": "python",
   "pygments_lexer": "ipython3",
   "version": "3.9.12"
  }
 },
 "nbformat": 4,
 "nbformat_minor": 5
}
